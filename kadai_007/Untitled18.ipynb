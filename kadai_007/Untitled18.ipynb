{
  "nbformat": 4,
  "nbformat_minor": 0,
  "metadata": {
    "colab": {
      "provenance": []
    },
    "kernelspec": {
      "name": "python3",
      "display_name": "Python 3"
    },
    "language_info": {
      "name": "python"
    }
  },
  "cells": [
    {
      "cell_type": "code",
      "execution_count": 10,
      "metadata": {
        "colab": {
          "base_uri": "https://localhost:8080/"
        },
        "id": "3PhOKd8SMEBs",
        "outputId": "002e98d8-ff6e-4d53-98a7-2c76c48cbaca"
      },
      "outputs": [
        {
          "output_type": "stream",
          "name": "stdout",
          "text": [
            "水曜日は晴れです\n",
            "水曜日は晴れです\n"
          ]
        }
      ],
      "source": [
        "arrey = [\"月曜日は晴れです\",\"火曜日は雨です\",\"水曜日は晴れです\",\"木曜日は晴れです\",\"金曜日は曇りです\",\"土曜日は曇りのち雨です\",\"日曜日は雷雨です\"]\n",
        "dictionary = {\"mon\" : \"晴れ\", \"tue\" : \"雨\", \"wed\" : \"晴れ\", \"the\" : \"晴れ\", \"fri\" : \"曇り\", \"sat\" : \"曇りのち雨\", \"sun\" : \"雷雨\"}\n",
        "\n",
        "print(arrey[2])\n",
        "print(f\"水曜日は{dictionary['wed']}です\")"
      ]
    },
    {
      "cell_type": "code",
      "source": [],
      "metadata": {
        "id": "tXmo9vnrQDkh"
      },
      "execution_count": null,
      "outputs": []
    }
  ]
}