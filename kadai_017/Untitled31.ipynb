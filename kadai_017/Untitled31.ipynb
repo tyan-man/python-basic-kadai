{
  "nbformat": 4,
  "nbformat_minor": 0,
  "metadata": {
    "colab": {
      "provenance": []
    },
    "kernelspec": {
      "name": "python3",
      "display_name": "Python 3"
    },
    "language_info": {
      "name": "python"
    }
  },
  "cells": [
    {
      "cell_type": "code",
      "execution_count": 1,
      "metadata": {
        "colab": {
          "base_uri": "https://localhost:8080/"
        },
        "id": "ce3JcYyizECX",
        "outputId": "8dc461dd-1b57-44bf-b08e-f932a30d8720"
      },
      "outputs": [
        {
          "output_type": "stream",
          "name": "stdout",
          "text": [
            "あきひろは54歳, Adult\n",
            "こうぞうは18歳, NOT Adult\n",
            "Yujiは30歳, Adult\n",
            "Akiは40歳, Adult\n"
          ]
        }
      ],
      "source": [
        "class Human:\n",
        "  def __init__(self, name, age):\n",
        "    self.name = name\n",
        "    self.age = age\n",
        "\n",
        "  def check_adult(self):\n",
        "    if self.age >= 20:\n",
        "      print(f\"{self.name}は{self.age}歳, Adult\")\n",
        "    else:\n",
        "      print(f\"{self.name}は{self.age}歳, NOT Adult\")\n",
        "\n",
        "Human1 = Human(\"あきひろ\", 54)\n",
        "Human2 = Human(\"こうぞう\", 18)\n",
        "Human3 = Human(\"Yuji\", 30)\n",
        "Human4 = Human(\"Aki\", 40)\n",
        "\n",
        "Humans = [Human1, Human2, Human3, Human4]\n",
        "\n",
        "for Human in Humans:\n",
        "  Human.check_adult()"
      ]
    }
  ]
}