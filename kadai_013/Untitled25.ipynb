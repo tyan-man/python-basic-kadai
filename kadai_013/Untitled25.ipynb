{
  "nbformat": 4,
  "nbformat_minor": 0,
  "metadata": {
    "colab": {
      "provenance": []
    },
    "kernelspec": {
      "name": "python3",
      "display_name": "Python 3"
    },
    "language_info": {
      "name": "python"
    }
  },
  "cells": [
    {
      "cell_type": "code",
      "execution_count": 5,
      "metadata": {
        "colab": {
          "base_uri": "https://localhost:8080/"
        },
        "id": "ZZY6-b9zm3fa",
        "outputId": "f683f067-6c97-4ba0-c784-3ee0c075c7e5"
      },
      "outputs": [
        {
          "output_type": "stream",
          "name": "stdout",
          "text": [
            "1100.0円\n"
          ]
        }
      ],
      "source": [
        "def calculate_total_with_tax(price, tax_rate):\n",
        "  total = price * (1 + tax_rate)\n",
        "  print(f\"{total}円\")\n",
        "\n",
        "calculate_total_with_tax(1000, 0.10)"
      ]
    }
  ]
}